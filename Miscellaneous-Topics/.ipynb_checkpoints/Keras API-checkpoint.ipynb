{
 "cells": [
  {
   "cell_type": "code",
   "execution_count": 1,
   "metadata": {},
   "outputs": [],
   "source": [
    "from sklearn.datasets import load_wine\n",
    "from sklearn.model_selection import train_test_split\n",
    "from sklearn.preprocessing import MinMaxScaler\n",
    "\n",
    "wine_data = load_wine()\n",
    "feat_data = wine_data['data']\n",
    "labels = wine_data['target']\n",
    "\n",
    "X_train, X_test, y_train, y_test = train_test_split(feat_data, \n",
    "                                                    labels, \n",
    "                                                    test_size=0.3,\n",
    "                                                    random_state=101)\n",
    "\n",
    "scaler = MinMaxScaler()\n",
    "scaled_X_train = scaler.fit_transform(X_train)\n",
    "scaled_X_test = scaler.transform(X_test)"
   ]
  },
  {
   "cell_type": "code",
   "execution_count": 2,
   "metadata": {},
   "outputs": [
    {
     "name": "stderr",
     "output_type": "stream",
     "text": [
      "/Users/fran/anaconda2/lib/python2.7/site-packages/h5py/__init__.py:36: FutureWarning: Conversion of the second argument of issubdtype from `float` to `np.floating` is deprecated. In future, it will be treated as `np.float64 == np.dtype(float).type`.\n",
      "  from ._conv import register_converters as _register_converters\n"
     ]
    }
   ],
   "source": [
    "import tensorflow as tf"
   ]
  },
  {
   "cell_type": "code",
   "execution_count": 3,
   "metadata": {},
   "outputs": [],
   "source": [
    "from tensorflow.contrib.keras import models"
   ]
  },
  {
   "cell_type": "code",
   "execution_count": 4,
   "metadata": {},
   "outputs": [],
   "source": [
    "deep_model = models.Sequential()"
   ]
  },
  {
   "cell_type": "code",
   "execution_count": 5,
   "metadata": {},
   "outputs": [],
   "source": [
    "from tensorflow.contrib.keras import layers"
   ]
  },
  {
   "cell_type": "code",
   "execution_count": 6,
   "metadata": {},
   "outputs": [],
   "source": [
    "deep_model.add(layers.Dense(units=13, input_dim=13, activation='relu'))"
   ]
  },
  {
   "cell_type": "code",
   "execution_count": 7,
   "metadata": {},
   "outputs": [],
   "source": [
    "deep_model.add(layers.Dense(units=13, activation='relu'))"
   ]
  },
  {
   "cell_type": "code",
   "execution_count": 8,
   "metadata": {},
   "outputs": [],
   "source": [
    "deep_model.add(layers.Dense(units=13, activation='relu'))"
   ]
  },
  {
   "cell_type": "code",
   "execution_count": 9,
   "metadata": {},
   "outputs": [],
   "source": [
    "deep_model.add(layers.Dense(units=3, activation='softmax'))"
   ]
  },
  {
   "cell_type": "code",
   "execution_count": 10,
   "metadata": {},
   "outputs": [],
   "source": [
    "from tensorflow.contrib.keras import losses, optimizers, metrics, activations"
   ]
  },
  {
   "cell_type": "code",
   "execution_count": 11,
   "metadata": {},
   "outputs": [],
   "source": [
    "deep_model.compile(optimizer='adam'\n",
    "                  ,loss='sparse_categorical_crossentropy'\n",
    "                  ,metrics=['accuracy'])"
   ]
  },
  {
   "cell_type": "code",
   "execution_count": 12,
   "metadata": {},
   "outputs": [
    {
     "name": "stdout",
     "output_type": "stream",
     "text": [
      "Epoch 1/50\n",
      "124/124 [==============================] - 0s 2ms/step - loss: 1.1427 - acc: 0.3226\n",
      "Epoch 2/50\n",
      "124/124 [==============================] - 0s 117us/step - loss: 1.1253 - acc: 0.3226\n",
      "Epoch 3/50\n",
      "124/124 [==============================] - 0s 93us/step - loss: 1.1128 - acc: 0.3226\n",
      "Epoch 4/50\n",
      "124/124 [==============================] - 0s 94us/step - loss: 1.1018 - acc: 0.3226\n",
      "Epoch 5/50\n",
      "124/124 [==============================] - 0s 87us/step - loss: 1.0920 - acc: 0.3226\n",
      "Epoch 6/50\n",
      "124/124 [==============================] - 0s 102us/step - loss: 1.0844 - acc: 0.3226\n",
      "Epoch 7/50\n",
      "124/124 [==============================] - 0s 74us/step - loss: 1.0762 - acc: 0.3226\n",
      "Epoch 8/50\n",
      "124/124 [==============================] - 0s 187us/step - loss: 1.0678 - acc: 0.3226\n",
      "Epoch 9/50\n",
      "124/124 [==============================] - 0s 84us/step - loss: 1.0581 - acc: 0.3226\n",
      "Epoch 10/50\n",
      "124/124 [==============================] - 0s 104us/step - loss: 1.0476 - acc: 0.3226\n",
      "Epoch 11/50\n",
      "124/124 [==============================] - 0s 88us/step - loss: 1.0357 - acc: 0.3306\n",
      "Epoch 12/50\n",
      "124/124 [==============================] - 0s 70us/step - loss: 1.0239 - acc: 0.3306\n",
      "Epoch 13/50\n",
      "124/124 [==============================] - 0s 82us/step - loss: 1.0112 - acc: 0.3306\n",
      "Epoch 14/50\n",
      "124/124 [==============================] - 0s 99us/step - loss: 0.9985 - acc: 0.3306\n",
      "Epoch 15/50\n",
      "124/124 [==============================] - 0s 134us/step - loss: 0.9830 - acc: 0.3468\n",
      "Epoch 16/50\n",
      "124/124 [==============================] - 0s 129us/step - loss: 0.9683 - acc: 0.3468\n",
      "Epoch 17/50\n",
      "124/124 [==============================] - 0s 100us/step - loss: 0.9544 - acc: 0.3629\n",
      "Epoch 18/50\n",
      "124/124 [==============================] - 0s 111us/step - loss: 0.9406 - acc: 0.3790\n",
      "Epoch 19/50\n",
      "124/124 [==============================] - 0s 87us/step - loss: 0.9280 - acc: 0.4113\n",
      "Epoch 20/50\n",
      "124/124 [==============================] - 0s 82us/step - loss: 0.9151 - acc: 0.4194\n",
      "Epoch 21/50\n",
      "124/124 [==============================] - 0s 83us/step - loss: 0.9024 - acc: 0.4758\n",
      "Epoch 22/50\n",
      "124/124 [==============================] - 0s 121us/step - loss: 0.8899 - acc: 0.4839\n",
      "Epoch 23/50\n",
      "124/124 [==============================] - 0s 97us/step - loss: 0.8775 - acc: 0.5161\n",
      "Epoch 24/50\n",
      "124/124 [==============================] - 0s 92us/step - loss: 0.8654 - acc: 0.5242\n",
      "Epoch 25/50\n",
      "124/124 [==============================] - 0s 125us/step - loss: 0.8535 - acc: 0.5726\n",
      "Epoch 26/50\n",
      "124/124 [==============================] - 0s 79us/step - loss: 0.8420 - acc: 0.6290\n",
      "Epoch 27/50\n",
      "124/124 [==============================] - 0s 74us/step - loss: 0.8311 - acc: 0.7016\n",
      "Epoch 28/50\n",
      "124/124 [==============================] - 0s 98us/step - loss: 0.8196 - acc: 0.7339\n",
      "Epoch 29/50\n",
      "124/124 [==============================] - 0s 102us/step - loss: 0.8084 - acc: 0.7742\n",
      "Epoch 30/50\n",
      "124/124 [==============================] - 0s 79us/step - loss: 0.7968 - acc: 0.7984\n",
      "Epoch 31/50\n",
      "124/124 [==============================] - 0s 109us/step - loss: 0.7854 - acc: 0.8226\n",
      "Epoch 32/50\n",
      "124/124 [==============================] - 0s 85us/step - loss: 0.7743 - acc: 0.8306\n",
      "Epoch 33/50\n",
      "124/124 [==============================] - 0s 75us/step - loss: 0.7629 - acc: 0.8226\n",
      "Epoch 34/50\n",
      "124/124 [==============================] - 0s 98us/step - loss: 0.7508 - acc: 0.8226\n",
      "Epoch 35/50\n",
      "124/124 [==============================] - 0s 102us/step - loss: 0.7393 - acc: 0.8548\n",
      "Epoch 36/50\n",
      "124/124 [==============================] - 0s 128us/step - loss: 0.7273 - acc: 0.8710\n",
      "Epoch 37/50\n",
      "124/124 [==============================] - 0s 76us/step - loss: 0.7151 - acc: 0.8790\n",
      "Epoch 38/50\n",
      "124/124 [==============================] - 0s 97us/step - loss: 0.7022 - acc: 0.8871\n",
      "Epoch 39/50\n",
      "124/124 [==============================] - 0s 86us/step - loss: 0.6893 - acc: 0.8952\n",
      "Epoch 40/50\n",
      "124/124 [==============================] - 0s 85us/step - loss: 0.6768 - acc: 0.9113\n",
      "Epoch 41/50\n",
      "124/124 [==============================] - 0s 83us/step - loss: 0.6625 - acc: 0.9355\n",
      "Epoch 42/50\n",
      "124/124 [==============================] - 0s 113us/step - loss: 0.6486 - acc: 0.9435\n",
      "Epoch 43/50\n",
      "124/124 [==============================] - 0s 122us/step - loss: 0.6356 - acc: 0.9355\n",
      "Epoch 44/50\n",
      "124/124 [==============================] - 0s 91us/step - loss: 0.6206 - acc: 0.9435\n",
      "Epoch 45/50\n",
      "124/124 [==============================] - 0s 87us/step - loss: 0.6059 - acc: 0.9516\n",
      "Epoch 46/50\n",
      "124/124 [==============================] - 0s 117us/step - loss: 0.5918 - acc: 0.9516\n",
      "Epoch 47/50\n",
      "124/124 [==============================] - 0s 128us/step - loss: 0.5771 - acc: 0.9597\n",
      "Epoch 48/50\n",
      "124/124 [==============================] - 0s 152us/step - loss: 0.5621 - acc: 0.9597\n",
      "Epoch 49/50\n",
      "124/124 [==============================] - 0s 102us/step - loss: 0.5470 - acc: 0.9677\n",
      "Epoch 50/50\n",
      "124/124 [==============================] - 0s 72us/step - loss: 0.5326 - acc: 0.9677\n"
     ]
    },
    {
     "data": {
      "text/plain": [
       "<tensorflow.python.keras._impl.keras.callbacks.History at 0x1c296a1ad0>"
      ]
     },
     "execution_count": 12,
     "metadata": {},
     "output_type": "execute_result"
    }
   ],
   "source": [
    "deep_model.fit(scaled_X_train, y_train, epochs=50)"
   ]
  },
  {
   "cell_type": "code",
   "execution_count": 13,
   "metadata": {},
   "outputs": [],
   "source": [
    "predictions = deep_model.predict_classes(scaled_X_test)"
   ]
  },
  {
   "cell_type": "code",
   "execution_count": 14,
   "metadata": {},
   "outputs": [],
   "source": [
    "from sklearn.metrics import classification_report"
   ]
  },
  {
   "cell_type": "code",
   "execution_count": 15,
   "metadata": {},
   "outputs": [
    {
     "name": "stdout",
     "output_type": "stream",
     "text": [
      "             precision    recall  f1-score   support\n",
      "\n",
      "          0       0.95      0.95      0.95        19\n",
      "          1       0.95      0.91      0.93        23\n",
      "          2       0.92      1.00      0.96        12\n",
      "\n",
      "avg / total       0.95      0.94      0.94        54\n",
      "\n"
     ]
    }
   ],
   "source": [
    "print(classification_report(predictions, y_test))"
   ]
  },
  {
   "cell_type": "code",
   "execution_count": null,
   "metadata": {},
   "outputs": [],
   "source": []
  }
 ],
 "metadata": {
  "kernelspec": {
   "display_name": "Python 2",
   "language": "python",
   "name": "python2"
  },
  "language_info": {
   "codemirror_mode": {
    "name": "ipython",
    "version": 2
   },
   "file_extension": ".py",
   "mimetype": "text/x-python",
   "name": "python",
   "nbconvert_exporter": "python",
   "pygments_lexer": "ipython2",
   "version": "2.7.14"
  }
 },
 "nbformat": 4,
 "nbformat_minor": 2
}
