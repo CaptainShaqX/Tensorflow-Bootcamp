{
 "cells": [
  {
   "cell_type": "code",
   "execution_count": 1,
   "metadata": {},
   "outputs": [],
   "source": [
    "from sklearn.datasets import load_wine\n",
    "from sklearn.model_selection import train_test_split\n",
    "from sklearn.preprocessing import MinMaxScaler\n",
    "\n",
    "wine_data = load_wine()\n",
    "feat_data = wine_data['data']\n",
    "labels = wine_data['target']\n",
    "\n",
    "X_train, X_test, y_train, y_test = train_test_split(feat_data, \n",
    "                                                    labels, \n",
    "                                                    test_size=0.3,\n",
    "                                                    random_state=101)\n",
    "\n",
    "scaler = MinMaxScaler()\n",
    "scaled_X_train = scaler.fit_transform(X_train)\n",
    "scaled_X_test = scaler.transform(X_test)"
   ]
  },
  {
   "cell_type": "code",
   "execution_count": 2,
   "metadata": {},
   "outputs": [
    {
     "name": "stderr",
     "output_type": "stream",
     "text": [
      "/Users/fran/anaconda2/lib/python2.7/site-packages/h5py/__init__.py:36: FutureWarning: Conversion of the second argument of issubdtype from `float` to `np.floating` is deprecated. In future, it will be treated as `np.float64 == np.dtype(float).type`.\n",
      "  from ._conv import register_converters as _register_converters\n"
     ]
    }
   ],
   "source": [
    "import tensorflow as tf"
   ]
  },
  {
   "cell_type": "code",
   "execution_count": 3,
   "metadata": {},
   "outputs": [],
   "source": [
    "from tensorflow import estimator"
   ]
  },
  {
   "cell_type": "code",
   "execution_count": 4,
   "metadata": {},
   "outputs": [
    {
     "data": {
      "text/plain": [
       "(124, 13)"
      ]
     },
     "execution_count": 4,
     "metadata": {},
     "output_type": "execute_result"
    }
   ],
   "source": [
    "X_train.shape"
   ]
  },
  {
   "cell_type": "code",
   "execution_count": 7,
   "metadata": {},
   "outputs": [
    {
     "data": {
      "text/plain": [
       "array([[1.187e+01, 4.310e+00, 2.390e+00, ..., 7.500e-01, 3.640e+00,\n",
       "        3.800e+02],\n",
       "       [1.217e+01, 1.450e+00, 2.530e+00, ..., 1.450e+00, 2.230e+00,\n",
       "        3.550e+02],\n",
       "       [1.234e+01, 2.450e+00, 2.460e+00, ..., 8.000e-01, 3.380e+00,\n",
       "        4.380e+02],\n",
       "       ...,\n",
       "       [1.272e+01, 1.810e+00, 2.200e+00, ..., 1.160e+00, 3.140e+00,\n",
       "        7.140e+02],\n",
       "       [1.412e+01, 1.480e+00, 2.320e+00, ..., 1.170e+00, 2.820e+00,\n",
       "        1.280e+03],\n",
       "       [1.247e+01, 1.520e+00, 2.200e+00, ..., 1.160e+00, 2.630e+00,\n",
       "        9.370e+02]])"
      ]
     },
     "execution_count": 7,
     "metadata": {},
     "output_type": "execute_result"
    }
   ],
   "source": [
    "X_train"
   ]
  },
  {
   "cell_type": "code",
   "execution_count": 5,
   "metadata": {},
   "outputs": [],
   "source": [
    "feat_cols = [tf.feature_column.numeric_column('x', shape=[13])]"
   ]
  },
  {
   "cell_type": "code",
   "execution_count": 6,
   "metadata": {},
   "outputs": [
    {
     "data": {
      "text/plain": [
       "[_NumericColumn(key='x', shape=(13,), default_value=None, dtype=tf.float32, normalizer_fn=None)]"
      ]
     },
     "execution_count": 6,
     "metadata": {},
     "output_type": "execute_result"
    }
   ],
   "source": [
    "feat_cols"
   ]
  },
  {
   "cell_type": "code",
   "execution_count": 11,
   "metadata": {},
   "outputs": [
    {
     "name": "stdout",
     "output_type": "stream",
     "text": [
      "INFO:tensorflow:Using default config.\n",
      "WARNING:tensorflow:Using temporary folder as model directory: /var/folders/v6/bxvx9k7d5vn8kmkjpjg2v5lw0000gn/T/tmpR_UEb1\n",
      "INFO:tensorflow:Using config: {'_save_checkpoints_secs': 600, '_session_config': None, '_keep_checkpoint_max': 5, '_task_type': 'worker', '_global_id_in_cluster': 0, '_is_chief': True, '_cluster_spec': <tensorflow.python.training.server_lib.ClusterSpec object at 0x10c1183d0>, '_evaluation_master': '', '_save_checkpoints_steps': None, '_keep_checkpoint_every_n_hours': 10000, '_service': None, '_num_ps_replicas': 0, '_tf_random_seed': None, '_master': '', '_num_worker_replicas': 1, '_task_id': 0, '_log_step_count_steps': 100, '_model_dir': '/var/folders/v6/bxvx9k7d5vn8kmkjpjg2v5lw0000gn/T/tmpR_UEb1', '_save_summary_steps': 100}\n"
     ]
    }
   ],
   "source": [
    "deep_model = estimator.DNNClassifier(hidden_units=[13, 13, 13]\n",
    "                                    ,feature_columns=feat_cols\n",
    "                                    ,n_classes=3\n",
    "                                    ,optimizer=tf.train.GradientDescentOptimizer(learning_rate=0.01))"
   ]
  },
  {
   "cell_type": "code",
   "execution_count": 13,
   "metadata": {},
   "outputs": [],
   "source": [
    "input_fn = estimator.inputs.numpy_input_fn(x={'x': scaled_X_train}\n",
    "                                          ,y=y_train\n",
    "                                          ,shuffle=True\n",
    "                                          ,batch_size=10\n",
    "                                          ,num_epochs=5)"
   ]
  },
  {
   "cell_type": "code",
   "execution_count": 14,
   "metadata": {},
   "outputs": [
    {
     "name": "stdout",
     "output_type": "stream",
     "text": [
      "INFO:tensorflow:Calling model_fn.\n",
      "INFO:tensorflow:Done calling model_fn.\n",
      "INFO:tensorflow:Create CheckpointSaverHook.\n",
      "INFO:tensorflow:Graph was finalized.\n",
      "INFO:tensorflow:Running local_init_op.\n",
      "INFO:tensorflow:Done running local_init_op.\n",
      "INFO:tensorflow:Saving checkpoints for 1 into /var/folders/v6/bxvx9k7d5vn8kmkjpjg2v5lw0000gn/T/tmpR_UEb1/model.ckpt.\n",
      "INFO:tensorflow:loss = 11.3017645, step = 1\n",
      "INFO:tensorflow:Saving checkpoints for 62 into /var/folders/v6/bxvx9k7d5vn8kmkjpjg2v5lw0000gn/T/tmpR_UEb1/model.ckpt.\n",
      "INFO:tensorflow:Loss for final step: 3.891415.\n"
     ]
    },
    {
     "data": {
      "text/plain": [
       "<tensorflow.python.estimator.canned.dnn.DNNClassifier at 0x1a1e1ae790>"
      ]
     },
     "execution_count": 14,
     "metadata": {},
     "output_type": "execute_result"
    }
   ],
   "source": [
    "deep_model.train(input_fn=input_fn, steps=500)"
   ]
  },
  {
   "cell_type": "code",
   "execution_count": 15,
   "metadata": {},
   "outputs": [],
   "source": [
    "input_fn_eval = estimator.inputs.numpy_input_fn(x={'x': scaled_X_test}\n",
    "                                               ,shuffle=False)"
   ]
  },
  {
   "cell_type": "code",
   "execution_count": 16,
   "metadata": {},
   "outputs": [
    {
     "name": "stdout",
     "output_type": "stream",
     "text": [
      "INFO:tensorflow:Calling model_fn.\n",
      "INFO:tensorflow:Done calling model_fn.\n",
      "INFO:tensorflow:Graph was finalized.\n",
      "INFO:tensorflow:Restoring parameters from /var/folders/v6/bxvx9k7d5vn8kmkjpjg2v5lw0000gn/T/tmpR_UEb1/model.ckpt-62\n",
      "INFO:tensorflow:Running local_init_op.\n",
      "INFO:tensorflow:Done running local_init_op.\n"
     ]
    }
   ],
   "source": [
    "preds = list(deep_model.predict(input_fn=input_fn_eval))"
   ]
  },
  {
   "cell_type": "code",
   "execution_count": 17,
   "metadata": {},
   "outputs": [
    {
     "data": {
      "text/plain": [
       "[{'class_ids': array([0]),\n",
       "  'classes': array(['0'], dtype=object),\n",
       "  'logits': array([ 0.89879733,  0.34112734, -1.5313034 ], dtype=float32),\n",
       "  'probabilities': array([0.6022031 , 0.34478626, 0.05301071], dtype=float32)},\n",
       " {'class_ids': array([0]),\n",
       "  'classes': array(['0'], dtype=object),\n",
       "  'logits': array([ 1.0473834 ,  0.38665742, -1.8784246 ], dtype=float32),\n",
       "  'probabilities': array([0.63690317, 0.32894534, 0.03415161], dtype=float32)},\n",
       " {'class_ids': array([2]),\n",
       "  'classes': array(['2'], dtype=object),\n",
       "  'logits': array([-1.9826021,  0.5080185,  1.3518462], dtype=float32),\n",
       "  'probabilities': array([0.02431217, 0.29341784, 0.68226993], dtype=float32)},\n",
       " {'class_ids': array([0]),\n",
       "  'classes': array(['0'], dtype=object),\n",
       "  'logits': array([ 2.5128074 , -0.05732096, -2.9134555 ], dtype=float32),\n",
       "  'probabilities': array([0.92513335, 0.0707965 , 0.00407013], dtype=float32)},\n",
       " {'class_ids': array([2]),\n",
       "  'classes': array(['2'], dtype=object),\n",
       "  'logits': array([-1.8553817 ,  0.52694833,  1.2214003 ], dtype=float32),\n",
       "  'probabilities': array([0.02983418, 0.32310736, 0.6470584 ], dtype=float32)},\n",
       " {'class_ids': array([1]),\n",
       "  'classes': array(['1'], dtype=object),\n",
       "  'logits': array([-1.964165  ,  0.9486364 ,  0.39757693], dtype=float32),\n",
       "  'probabilities': array([0.03331367, 0.6132478 , 0.35343856], dtype=float32)},\n",
       " {'class_ids': array([2]),\n",
       "  'classes': array(['2'], dtype=object),\n",
       "  'logits': array([-2.1656818,  0.5532208,  1.4367808], dtype=float32),\n",
       "  'probabilities': array([0.0189207 , 0.2869074 , 0.69417185], dtype=float32)},\n",
       " {'class_ids': array([0]),\n",
       "  'classes': array(['0'], dtype=object),\n",
       "  'logits': array([ 2.1140842 ,  0.06997066, -2.5480776 ], dtype=float32),\n",
       "  'probabilities': array([0.87800866, 0.11369766, 0.00829369], dtype=float32)},\n",
       " {'class_ids': array([1]),\n",
       "  'classes': array(['1'], dtype=object),\n",
       "  'logits': array([ 0.2402734 ,  0.74284256, -1.5767019 ], dtype=float32),\n",
       "  'probabilities': array([0.35517934, 0.5870981 , 0.05772253], dtype=float32)},\n",
       " {'class_ids': array([0]),\n",
       "  'classes': array(['0'], dtype=object),\n",
       "  'logits': array([ 1.3025715 ,  0.36174467, -2.1214857 ], dtype=float32),\n",
       "  'probabilities': array([0.70279753, 0.27430534, 0.02289713], dtype=float32)},\n",
       " {'class_ids': array([0]),\n",
       "  'classes': array(['0'], dtype=object),\n",
       "  'logits': array([ 2.3074858 ,  0.05864038, -2.8344584 ], dtype=float32),\n",
       "  'probabilities': array([0.8997926 , 0.09494701, 0.00526047], dtype=float32)},\n",
       " {'class_ids': array([1]),\n",
       "  'classes': array(['1'], dtype=object),\n",
       "  'logits': array([ 0.11833577,  0.62480533, -1.1901422 ], dtype=float32),\n",
       "  'probabilities': array([0.34133732, 0.56642276, 0.09223994], dtype=float32)},\n",
       " {'class_ids': array([0]),\n",
       "  'classes': array(['0'], dtype=object),\n",
       "  'logits': array([ 0.77274674,  0.3787399 , -1.6652769 ], dtype=float32),\n",
       "  'probabilities': array([0.5676391 , 0.3827871 , 0.04957379], dtype=float32)},\n",
       " {'class_ids': array([0]),\n",
       "  'classes': array(['0'], dtype=object),\n",
       "  'logits': array([ 1.3391635 ,  0.23255298, -2.0129776 ], dtype=float32),\n",
       "  'probabilities': array([0.73223215, 0.24213296, 0.02563494], dtype=float32)},\n",
       " {'class_ids': array([0]),\n",
       "  'classes': array(['0'], dtype=object),\n",
       "  'logits': array([ 2.3652585 , -0.01821807, -3.0625396 ], dtype=float32),\n",
       "  'probabilities': array([0.91189116, 0.08410316, 0.00400572], dtype=float32)},\n",
       " {'class_ids': array([0]),\n",
       "  'classes': array(['0'], dtype=object),\n",
       "  'logits': array([ 1.9233115 ,  0.18359722, -2.5572314 ], dtype=float32),\n",
       "  'probabilities': array([0.84253246, 0.1479239 , 0.00954358], dtype=float32)},\n",
       " {'class_ids': array([1]),\n",
       "  'classes': array(['1'], dtype=object),\n",
       "  'logits': array([-1.0243738 ,  0.89989233, -0.5740752 ], dtype=float32),\n",
       "  'probabilities': array([0.10616952, 0.7272739 , 0.16655667], dtype=float32)},\n",
       " {'class_ids': array([2]),\n",
       "  'classes': array(['2'], dtype=object),\n",
       "  'logits': array([-2.5194128,  0.6696087,  1.6089212], dtype=float32),\n",
       "  'probabilities': array([0.01144962, 0.27782142, 0.7107289 ], dtype=float32)},\n",
       " {'class_ids': array([1]),\n",
       "  'classes': array(['1'], dtype=object),\n",
       "  'logits': array([-1.6245914 ,  0.9390135 ,  0.01110219], dtype=float32),\n",
       "  'probabilities': array([0.05231343, 0.67916083, 0.26852572], dtype=float32)},\n",
       " {'class_ids': array([1]),\n",
       "  'classes': array(['1'], dtype=object),\n",
       "  'logits': array([-1.2127242 ,  0.91907305, -0.43906465], dtype=float32),\n",
       "  'probabilities': array([0.08622407, 0.72686934, 0.1869066 ], dtype=float32)},\n",
       " {'class_ids': array([1]),\n",
       "  'classes': array(['1'], dtype=object),\n",
       "  'logits': array([-2.0020673 ,  1.0399652 ,  0.22999415], dtype=float32),\n",
       "  'probabilities': array([0.03198277, 0.66996795, 0.2980493 ], dtype=float32)},\n",
       " {'class_ids': array([2]),\n",
       "  'classes': array(['2'], dtype=object),\n",
       "  'logits': array([-2.0687356,  0.6518509,  1.1983762], dtype=float32),\n",
       "  'probabilities': array([0.02357118, 0.35802808, 0.61840075], dtype=float32)},\n",
       " {'class_ids': array([2]),\n",
       "  'classes': array(['2'], dtype=object),\n",
       "  'logits': array([-2.53522   ,  0.89316756,  1.2347254 ], dtype=float32),\n",
       "  'probabilities': array([0.01329706, 0.40990707, 0.5767958 ], dtype=float32)},\n",
       " {'class_ids': array([2]),\n",
       "  'classes': array(['2'], dtype=object),\n",
       "  'logits': array([-1.804373  ,  0.43003953,  1.2639397 ], dtype=float32),\n",
       "  'probabilities': array([0.03140055, 0.29331228, 0.6752872 ], dtype=float32)},\n",
       " {'class_ids': array([0]),\n",
       "  'classes': array(['0'], dtype=object),\n",
       "  'logits': array([ 1.9249513 ,  0.07558884, -2.386223  ], dtype=float32),\n",
       "  'probabilities': array([0.85414946, 0.1343897 , 0.01146079], dtype=float32)},\n",
       " {'class_ids': array([0]),\n",
       "  'classes': array(['0'], dtype=object),\n",
       "  'logits': array([ 1.7772775 ,  0.14774774, -2.369482  ], dtype=float32),\n",
       "  'probabilities': array([0.8251932 , 0.16175582, 0.01305091], dtype=float32)},\n",
       " {'class_ids': array([1]),\n",
       "  'classes': array(['1'], dtype=object),\n",
       "  'logits': array([-0.21001549,  0.82784283, -1.2411369 ], dtype=float32),\n",
       "  'probabilities': array([0.23924752, 0.67543507, 0.08531731], dtype=float32)},\n",
       " {'class_ids': array([1]),\n",
       "  'classes': array(['1'], dtype=object),\n",
       "  'logits': array([-1.989849  ,  0.95968527,  0.36909682], dtype=float32),\n",
       "  'probabilities': array([0.03259787, 0.6225234 , 0.34487873], dtype=float32)},\n",
       " {'class_ids': array([2]),\n",
       "  'classes': array(['2'], dtype=object),\n",
       "  'logits': array([-2.2008202 ,  0.45670462,  1.6529533 ], dtype=float32),\n",
       "  'probabilities': array([0.01601751, 0.22842488, 0.7555576 ], dtype=float32)},\n",
       " {'class_ids': array([1]),\n",
       "  'classes': array(['1'], dtype=object),\n",
       "  'logits': array([-2.1486478,  1.0000753,  0.5460965], dtype=float32),\n",
       "  'probabilities': array([0.0255702 , 0.5959465 , 0.37848336], dtype=float32)},\n",
       " {'class_ids': array([2]),\n",
       "  'classes': array(['2'], dtype=object),\n",
       "  'logits': array([-1.745755 ,  0.4096061,  1.237298 ], dtype=float32),\n",
       "  'probabilities': array([0.0340379 , 0.29378128, 0.67218083], dtype=float32)},\n",
       " {'class_ids': array([2]),\n",
       "  'classes': array(['2'], dtype=object),\n",
       "  'logits': array([-1.4155214 ,  0.57502306,  0.5836476 ], dtype=float32),\n",
       "  'probabilities': array([0.06368439, 0.466139  , 0.4701766 ], dtype=float32)},\n",
       " {'class_ids': array([1]),\n",
       "  'classes': array(['1'], dtype=object),\n",
       "  'logits': array([-1.492922  ,  0.64462566,  0.4800363 ], dtype=float32),\n",
       "  'probabilities': array([0.05998607, 0.508599  , 0.431415  ], dtype=float32)},\n",
       " {'class_ids': array([0]),\n",
       "  'classes': array(['0'], dtype=object),\n",
       "  'logits': array([ 0.9163384 ,  0.34003168, -1.5640439 ], dtype=float32),\n",
       "  'probabilities': array([0.60765105, 0.3414817 , 0.05086721], dtype=float32)},\n",
       " {'class_ids': array([1]),\n",
       "  'classes': array(['1'], dtype=object),\n",
       "  'logits': array([ 0.09967189,  0.63583505, -1.1526357 ], dtype=float32),\n",
       "  'probabilities': array([0.33385864, 0.57070976, 0.09543163], dtype=float32)},\n",
       " {'class_ids': array([0]),\n",
       "  'classes': array(['0'], dtype=object),\n",
       "  'logits': array([ 1.9864705,  0.1249675, -2.5642853], dtype=float32),\n",
       "  'probabilities': array([0.8576344 , 0.13330969, 0.00905595], dtype=float32)},\n",
       " {'class_ids': array([0]),\n",
       "  'classes': array(['0'], dtype=object),\n",
       "  'logits': array([ 1.9801471 ,  0.10317101, -2.509153  ], dtype=float32),\n",
       "  'probabilities': array([0.85889935, 0.13145645, 0.00964415], dtype=float32)},\n",
       " {'class_ids': array([1]),\n",
       "  'classes': array(['1'], dtype=object),\n",
       "  'logits': array([-1.998477  ,  0.8854454 ,  0.59798896], dtype=float32),\n",
       "  'probabilities': array([0.03095925, 0.55368406, 0.41535673], dtype=float32)},\n",
       " {'class_ids': array([1]),\n",
       "  'classes': array(['1'], dtype=object),\n",
       "  'logits': array([ 0.11282806,  0.71599996, -1.4316751 ], dtype=float32),\n",
       "  'probabilities': array([0.32880402, 0.6010234 , 0.07017266], dtype=float32)},\n",
       " {'class_ids': array([2]),\n",
       "  'classes': array(['2'], dtype=object),\n",
       "  'logits': array([-2.4541173 ,  0.61741227,  1.666365  ], dtype=float32),\n",
       "  'probabilities': array([0.01188159, 0.2563438 , 0.7317745 ], dtype=float32)},\n",
       " {'class_ids': array([1]),\n",
       "  'classes': array(['1'], dtype=object),\n",
       "  'logits': array([-2.246177  ,  1.1118772 ,  0.41970757], dtype=float32),\n",
       "  'probabilities': array([0.0226686 , 0.6513419 , 0.32598945], dtype=float32)},\n",
       " {'class_ids': array([0]),\n",
       "  'classes': array(['0'], dtype=object),\n",
       "  'logits': array([ 2.1537156 ,  0.01001838, -2.6104689 ], dtype=float32),\n",
       "  'probabilities': array([0.88829625, 0.10412666, 0.00757703], dtype=float32)},\n",
       " {'class_ids': array([0]),\n",
       "  'classes': array(['0'], dtype=object),\n",
       "  'logits': array([ 0.9410086,  0.4723941, -1.9199537], dtype=float32),\n",
       "  'probabilities': array([0.594148  , 0.3718587 , 0.03399339], dtype=float32)},\n",
       " {'class_ids': array([0]),\n",
       "  'classes': array(['0'], dtype=object),\n",
       "  'logits': array([ 1.3136628,  0.2742804, -2.0901325], dtype=float32),\n",
       "  'probabilities': array([0.7210221 , 0.2550061 , 0.02397171], dtype=float32)},\n",
       " {'class_ids': array([2]),\n",
       "  'classes': array(['2'], dtype=object),\n",
       "  'logits': array([-2.675226  ,  0.86276555,  1.4364719 ], dtype=float32),\n",
       "  'probabilities': array([0.01036827, 0.3566455 , 0.6329862 ], dtype=float32)},\n",
       " {'class_ids': array([1]),\n",
       "  'classes': array(['1'], dtype=object),\n",
       "  'logits': array([-0.1169991,  0.7440884, -1.2631962], dtype=float32),\n",
       "  'probabilities': array([0.27147537, 0.642238  , 0.0862866 ], dtype=float32)},\n",
       " {'class_ids': array([1]),\n",
       "  'classes': array(['1'], dtype=object),\n",
       "  'logits': array([-0.5841543,  0.8660028, -1.0272039], dtype=float32),\n",
       "  'probabilities': array([0.16932335, 0.7219583 , 0.10871836], dtype=float32)},\n",
       " {'class_ids': array([2]),\n",
       "  'classes': array(['2'], dtype=object),\n",
       "  'logits': array([-1.7851692,  0.4479773,  1.2295464], dtype=float32),\n",
       "  'probabilities': array([0.03256007, 0.30375856, 0.66368145], dtype=float32)},\n",
       " {'class_ids': array([2]),\n",
       "  'classes': array(['2'], dtype=object),\n",
       "  'logits': array([-1.9340383 ,  0.45029244,  1.4378468 ], dtype=float32),\n",
       "  'probabilities': array([0.02439906, 0.2647736 , 0.7108273 ], dtype=float32)},\n",
       " {'class_ids': array([1]),\n",
       "  'classes': array(['1'], dtype=object),\n",
       "  'logits': array([ 0.5022283,  0.9374319, -2.1636195], dtype=float32),\n",
       "  'probabilities': array([0.38243583, 0.5909695 , 0.02659473], dtype=float32)},\n",
       " {'class_ids': array([0]),\n",
       "  'classes': array(['0'], dtype=object),\n",
       "  'logits': array([ 1.6409291 ,  0.24354298, -2.4017842 ], dtype=float32),\n",
       "  'probabilities': array([0.7906437 , 0.19548063, 0.01387563], dtype=float32)},\n",
       " {'class_ids': array([1]),\n",
       "  'classes': array(['1'], dtype=object),\n",
       "  'logits': array([-1.4418101 ,  0.81926227,  0.08271834], dtype=float32),\n",
       "  'probabilities': array([0.06584861, 0.6317102 , 0.30244115], dtype=float32)},\n",
       " {'class_ids': array([1]),\n",
       "  'classes': array(['1'], dtype=object),\n",
       "  'logits': array([-1.5500419 ,  0.9227811 , -0.06737665], dtype=float32),\n",
       "  'probabilities': array([0.05793561, 0.68687713, 0.25518727], dtype=float32)},\n",
       " {'class_ids': array([0]),\n",
       "  'classes': array(['0'], dtype=object),\n",
       "  'logits': array([ 2.7419703 , -0.03371294, -3.3099742 ], dtype=float32),\n",
       "  'probabilities': array([0.9392668 , 0.0585228 , 0.00221036], dtype=float32)}]"
      ]
     },
     "execution_count": 17,
     "metadata": {},
     "output_type": "execute_result"
    }
   ],
   "source": [
    "preds"
   ]
  },
  {
   "cell_type": "code",
   "execution_count": 18,
   "metadata": {},
   "outputs": [],
   "source": [
    "predictions = [p['class_ids'][0] for p in preds]"
   ]
  },
  {
   "cell_type": "code",
   "execution_count": 19,
   "metadata": {},
   "outputs": [
    {
     "data": {
      "text/plain": [
       "[0,\n",
       " 0,\n",
       " 2,\n",
       " 0,\n",
       " 2,\n",
       " 1,\n",
       " 2,\n",
       " 0,\n",
       " 1,\n",
       " 0,\n",
       " 0,\n",
       " 1,\n",
       " 0,\n",
       " 0,\n",
       " 0,\n",
       " 0,\n",
       " 1,\n",
       " 2,\n",
       " 1,\n",
       " 1,\n",
       " 1,\n",
       " 2,\n",
       " 2,\n",
       " 2,\n",
       " 0,\n",
       " 0,\n",
       " 1,\n",
       " 1,\n",
       " 2,\n",
       " 1,\n",
       " 2,\n",
       " 2,\n",
       " 1,\n",
       " 0,\n",
       " 1,\n",
       " 0,\n",
       " 0,\n",
       " 1,\n",
       " 1,\n",
       " 2,\n",
       " 1,\n",
       " 0,\n",
       " 0,\n",
       " 0,\n",
       " 2,\n",
       " 1,\n",
       " 1,\n",
       " 2,\n",
       " 2,\n",
       " 1,\n",
       " 0,\n",
       " 1,\n",
       " 1,\n",
       " 0]"
      ]
     },
     "execution_count": 19,
     "metadata": {},
     "output_type": "execute_result"
    }
   ],
   "source": [
    "predictions"
   ]
  },
  {
   "cell_type": "code",
   "execution_count": 20,
   "metadata": {},
   "outputs": [],
   "source": [
    "from sklearn.metrics import classification_report"
   ]
  },
  {
   "cell_type": "code",
   "execution_count": 21,
   "metadata": {},
   "outputs": [
    {
     "name": "stdout",
     "output_type": "stream",
     "text": [
      "             precision    recall  f1-score   support\n",
      "\n",
      "          0       0.90      0.95      0.92        19\n",
      "          1       0.95      0.86      0.90        22\n",
      "          2       0.93      1.00      0.96        13\n",
      "\n",
      "avg / total       0.93      0.93      0.93        54\n",
      "\n"
     ]
    }
   ],
   "source": [
    "print(classification_report(y_test, predictions))"
   ]
  },
  {
   "cell_type": "code",
   "execution_count": null,
   "metadata": {},
   "outputs": [],
   "source": []
  }
 ],
 "metadata": {
  "kernelspec": {
   "display_name": "Python 2",
   "language": "python",
   "name": "python2"
  },
  "language_info": {
   "codemirror_mode": {
    "name": "ipython",
    "version": 2
   },
   "file_extension": ".py",
   "mimetype": "text/x-python",
   "name": "python",
   "nbconvert_exporter": "python",
   "pygments_lexer": "ipython2",
   "version": "2.7.14"
  }
 },
 "nbformat": 4,
 "nbformat_minor": 2
}
